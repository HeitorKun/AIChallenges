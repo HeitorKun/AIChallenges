{
 "cells": [
  {
   "cell_type": "markdown",
   "id": "86efe899",
   "metadata": {},
   "source": [
    "#### Cada paciente é representado por uma linha no conjunto de dados. As features disponíveis são dados biomecânicos obtidos do formato e da orientação da pélvis e da lombar de cada pessoa.\n",
    "\n",
    "Os dados são:\n",
    "\n",
    "pelvic incidence\n",
    "pelvic tilt\n",
    "lumbar lordosis angle\n",
    "sacral slope\n",
    "pelvic radius\n",
    "grade of spondylolisthesis"
   ]
  },
  {
   "cell_type": "code",
   "execution_count": null,
   "id": "df8f500c",
   "metadata": {},
   "outputs": [],
   "source": []
  }
 ],
 "metadata": {
  "kernelspec": {
   "display_name": "Python 3 (ipykernel)",
   "language": "python",
   "name": "python3"
  },
  "language_info": {
   "codemirror_mode": {
    "name": "ipython",
    "version": 3
   },
   "file_extension": ".py",
   "mimetype": "text/x-python",
   "name": "python",
   "nbconvert_exporter": "python",
   "pygments_lexer": "ipython3",
   "version": "3.9.13"
  }
 },
 "nbformat": 4,
 "nbformat_minor": 5
}
