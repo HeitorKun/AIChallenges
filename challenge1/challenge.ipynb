{
 "cells": [
  {
   "cell_type": "markdown",
   "id": "86efe899",
   "metadata": {},
   "source": [
    "#### Cada paciente é representado por uma linha no conjunto de dados. As features disponíveis são dados biomecânicos obtidos do formato e da orientação da pélvis e da lombar de cada pessoa.\n",
    "\n",
    "Os dados são:\n",
    "\n",
    "pelvic incidence\n",
    "pelvic tilt\n",
    "lumbar lordosis angle\n",
    "sacral slope\n",
    "pelvic radius\n",
    "grade of spondylolisthesis"
   ]
  },
  {
   "cell_type": "code",
   "execution_count": 3,
   "id": "df8f500c",
   "metadata": {},
   "outputs": [],
   "source": [
    "import pandas as pd\n",
    "import sklearn\n",
    "from sklearn.naive_bayes import GaussianNB\n",
    "from sklearn.neighbors import KNeighborsClassifier\n",
    "from sklearn import tree\n",
    "from sklearn.metrics import accuracy_score\n",
    "from sklearn.preprocessing import StandardScaler\n",
    "from sklearn.model_selection import train_test_split"
   ]
  },
  {
   "cell_type": "code",
   "execution_count": 5,
   "id": "831aaff5",
   "metadata": {},
   "outputs": [
    {
     "name": "stdout",
     "output_type": "stream",
     "text": [
      "     pelvic_incidence  pelvic_tilt  lumbar_lordosis_angle  sacral_slope  \\\n",
      "0           39.056951    10.060991              25.015378     28.995960   \n",
      "1           68.832021    22.218482              50.092194     46.613539   \n",
      "2           49.712859     9.652075              28.317406     40.060784   \n",
      "3           40.250200    13.921907              25.124950     26.328293   \n",
      "4           53.432928    15.864336              37.165934     37.568592   \n",
      "..                ...          ...                    ...           ...   \n",
      "212         54.600316    21.488974              29.360216     33.111342   \n",
      "213         34.382299     2.062683              32.390820     32.319617   \n",
      "214         45.075450    12.306951              44.583177     32.768499   \n",
      "215         53.936748    20.721496              29.220534     33.215251   \n",
      "216         45.252792     8.693157              41.583126     36.559635   \n",
      "\n",
      "     pelvic_radius  degree_spondylolisthesis  \n",
      "0       114.405425                  4.564259  \n",
      "1       105.985135                 -3.530317  \n",
      "2       108.168725                  7.918501  \n",
      "3       130.327871                  2.230652  \n",
      "4       120.567523                  5.988551  \n",
      "..             ...                       ...  \n",
      "212     118.343321                 -1.471067  \n",
      "213     128.300199                 -3.365516  \n",
      "214     147.894637                 -8.941709  \n",
      "215     114.365845                 -0.421010  \n",
      "216     118.545842                  0.214750  \n",
      "\n",
      "[217 rows x 6 columns]\n",
      "[[-1.18869883 -0.69510135 -1.44118569 -1.02362078 -0.26410769 -0.5664504 ]\n",
      " [ 0.46509972  0.43461494 -0.13387024  0.27180937 -0.87037981 -0.76450397]\n",
      " [-0.59683705 -0.7330993  -1.26904294 -0.21001821 -0.71315846 -0.48438067]\n",
      " ...\n",
      " [-0.85441295 -0.48639896 -0.42106868 -0.7462239   2.14716028 -0.89690689]\n",
      " [-0.36222936  0.29550982 -1.22196069 -0.71337396 -0.26695753 -0.68842718]\n",
      " [-0.84456284 -0.82220525 -0.57746863 -0.46745965  0.03400782 -0.67287175]]\n",
      "0.4838709677419355\n"
     ]
    },
    {
     "name": "stderr",
     "output_type": "stream",
     "text": [
      "/Users/hpc/opt/anaconda3/lib/python3.9/site-packages/sklearn/base.py:443: UserWarning: X has feature names, but KNeighborsClassifier was fitted without feature names\n",
      "  warnings.warn(\n",
      "/Users/hpc/opt/anaconda3/lib/python3.9/site-packages/sklearn/neighbors/_classification.py:228: FutureWarning: Unlike other reduction functions (e.g. `skew`, `kurtosis`), the default behavior of `mode` typically preserves the axis it acts along. In SciPy 1.11.0, this behavior will change: the default value of `keepdims` will become False, the `axis` over which the statistic is taken will be eliminated, and the value None will no longer be accepted. Set `keepdims` to True or False to avoid this warning.\n",
      "  mode, _ = stats.mode(_y[neigh_ind, k], axis=1)\n"
     ]
    }
   ],
   "source": [
    "#standard scaler scikit-learn\n",
    "scaler = StandardScaler()\n",
    "df = pd.read_csv('./train.csv')\n",
    "df['class'].value_counts()/df.shape[0]\n",
    "train_y = df['class']\n",
    "train_x = df.drop(['class', 'Unnamed: 0'], axis=1)\n",
    "print(train_x)\n"
   ]
  },
  {
   "cell_type": "code",
   "execution_count": null,
   "id": "8257270d",
   "metadata": {},
   "outputs": [],
   "source": []
  },
  {
   "cell_type": "code",
   "execution_count": null,
   "id": "e24fb23a",
   "metadata": {},
   "outputs": [],
   "source": []
  }
 ],
 "metadata": {
  "kernelspec": {
   "display_name": "Python 3 (ipykernel)",
   "language": "python",
   "name": "python3"
  },
  "language_info": {
   "codemirror_mode": {
    "name": "ipython",
    "version": 3
   },
   "file_extension": ".py",
   "mimetype": "text/x-python",
   "name": "python",
   "nbconvert_exporter": "python",
   "pygments_lexer": "ipython3",
   "version": "3.9.13"
  }
 },
 "nbformat": 4,
 "nbformat_minor": 5
}
