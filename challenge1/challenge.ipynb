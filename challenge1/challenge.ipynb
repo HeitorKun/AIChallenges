{
 "cells": [
  {
   "cell_type": "markdown",
   "id": "86efe899",
   "metadata": {},
   "source": [
    "#### Cada paciente é representado por uma linha no conjunto de dados. As features disponíveis são dados biomecânicos obtidos do formato e da orientação da pélvis e da lombar de cada pessoa.\n",
    "\n",
    "Os dados são:\n",
    "\n",
    "pelvic incidence\n",
    "pelvic tilt\n",
    "lumbar lordosis angle\n",
    "sacral slope\n",
    "pelvic radius\n",
    "grade of spondylolisthesis"
   ]
  },
  {
   "cell_type": "code",
   "execution_count": null,
   "id": "df8f500c",
   "metadata": {},
   "outputs": [],
   "source": [
    "import pandas as pd\n",
    "from sklearn.preprocessing import OneHotEncoder\n",
    "from sklearn.ensemble import GradientBoostingClassifier\n",
    "from sklearn.metrics import accuracy_score"
   ]
  },
  {
   "cell_type": "code",
   "execution_count": null,
   "id": "831aaff5",
   "metadata": {},
   "outputs": [],
   "source": [
    "# Read the data\n",
    "train_df = pd.read_csv('./treino.csv')\n",
    "test_df = pd.read_csv('./train.csv')\n",
    "\n",
    "# Separate the target variable and the features\n",
    "train_y = train_df['class']\n",
    "train_x = train_df.drop(['class', 'Unnamed: 0'], axis=1)\n",
    "test_y = test_df['class']\n",
    "test_x = test_df.drop(['class', 'Unnamed: 0'], axis=1)\n",
    "\n",
    "# Preprocess the data\n",
    "encoder = OneHotEncoder()\n",
    "train_x = encoder.fit_transform(train_x)\n",
    "test_x = encoder.transform(test_x)\n",
    "\n",
    "# Model Selection and Training\n",
    "gb = GradientBoostingClassifier(n_estimators=100, learning_rate=0.1, random_state=42)\n",
    "gb.fit(train_x, train_y)\n",
    "\n",
    "# Predictions and Evaluation\n",
    "preds = gb.predict(test_x)\n",
    "print(accuracy_score(test_y, preds))"
   ]
  },
  {
   "cell_type": "code",
   "execution_count": null,
   "id": "8257270d",
   "metadata": {},
   "outputs": [],
   "source": []
  },
  {
   "cell_type": "code",
   "execution_count": null,
   "id": "e24fb23a",
   "metadata": {},
   "outputs": [],
   "source": []
  }
 ],
 "metadata": {
  "kernelspec": {
   "display_name": "Python 3 (ipykernel)",
   "language": "python",
   "name": "python3"
  },
  "language_info": {
   "codemirror_mode": {
    "name": "ipython",
    "version": 3
   },
   "file_extension": ".py",
   "mimetype": "text/x-python",
   "name": "python",
   "nbconvert_exporter": "python",
   "pygments_lexer": "ipython3",
   "version": "3.10.9"
  }
 },
 "nbformat": 4,
 "nbformat_minor": 5
}
