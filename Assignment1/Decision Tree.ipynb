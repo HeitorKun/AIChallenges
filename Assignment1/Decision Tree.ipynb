{
 "cells": [
  {
   "cell_type": "code",
   "execution_count": null,
   "metadata": {},
   "outputs": [],
   "source": [
    "from sklearn.datasets import load_iris\n",
    "from sklearn.model_selection import train_test_split\n",
    "from sklearn.tree import DecisionTreeClassifier\n",
    "from sklearn.metrics import confusion_matrix, accuracy_score, recall_score, precision_score, f1_score, roc_auc_score, plot_roc_curve\n",
    "import matplotlib.pyplot as plt\n",
    "\n",
    "# Carregar o dataset Iris\n",
    "iris = load_iris()\n",
    "X = iris.data\n",
    "y = iris.target\n",
    "\n",
    "# Dividir o dataset em conjuntos de treino e teste\n",
    "X_train, X_test, y_train, y_test = train_test_split(X, y, test_size=0.3, random_state=42)\n",
    "\n",
    "# Criar e treinar o modelo de árvore de decisão\n",
    "clf = DecisionTreeClassifier(random_state=42)\n",
    "clf.fit(X_train, y_train)\n",
    "\n",
    "# Fazer previsões com o modelo treinado\n",
    "y_pred = clf.predict(X_test)\n",
    "\n",
    "# Calcular e exibir as métricas solicitadas\n",
    "conf_matrix = confusion_matrix(y_test, y_pred)\n",
    "acc = accuracy_score(y_test, y_pred)\n",
    "recall = recall_score(y_test, y_pred, average='macro')\n",
    "precision = precision_score(y_test, y_pred, average='macro')\n",
    "f1 = f1_score(y_test, y_pred, average='macro')\n",
    "\n",
    "print(\"Matriz de confusão:\\n\", conf_matrix)\n",
    "print(\"Acurácia: {:.2f}\".format(acc))\n",
    "print(\"Recall: {:.2f}\".format(recall))\n",
    "print(\"Precisão: {:.2f}\".format(precision))\n",
    "print(\"F1-score: {:.2f}\".format(f1))\n",
    "\n",
    "# Calcular e exibir a curva ROC para problemas multiclasse\n",
    "y_prob = clf.predict_proba(X_test)\n",
    "roc_auc = roc_auc_score(y_test, y_prob, multi_class=\"ovr\", average=\"macro\")\n",
    "print(\"ROC AUC: {:.2f}\".format(roc_auc))\n",
    "\n",
    "# Plotar a curva ROC\n",
    "plot_roc_curve(clf, X_test, y_test)\n",
    "plt.title('Curva ROC')\n",
    "plt.show()\n"
   ]
  },
  {
   "cell_type": "code",
   "execution_count": null,
   "id": "668b214e",
   "metadata": {},
   "outputs": [],
   "source": [
    "faça um código em python que utilize scikit learn com dataset iris e que utlize o algoritmo de árvore de decisão e mostre resultados com matriz de confusão, acurácia, recall, precisão, f1-score e ROC"
   ]
  }
 ],
 "metadata": {
  "language_info": {
   "name": "python"
  }
 },
 "nbformat": 4,
 "nbformat_minor": 5
}
