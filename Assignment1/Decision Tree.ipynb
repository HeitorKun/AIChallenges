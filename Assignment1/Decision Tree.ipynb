{
 "cells": [
  {
   "cell_type": "markdown",
   "id": "1e03217d",
   "metadata": {},
   "source": [
    "# Árvore de Decisão\n",
    "### Prompt: \"faça um código em python que utilize scikit learn com dataset iris e que utlize o algoritmo de árvore de decisão e mostre resultados com matriz de confusão, acurácia, recall, precisão, f1-score e ROC\"\n",
    "### Resultado:"
   ]
  },
  {
   "cell_type": "code",
   "execution_count": 16,
   "id": "bb046684",
   "metadata": {},
   "outputs": [
    {
     "name": "stdout",
     "output_type": "stream",
     "text": [
      "Matriz de confusão:\n",
      " [[19  0  0]\n",
      " [ 0 13  0]\n",
      " [ 0  0 13]]\n",
      "Acurácia: 1.00\n",
      "Recall: 1.00\n",
      "Precisão: 1.00\n",
      "F1-score: 1.00\n"
     ]
    },
    {
     "data": {
      "image/png": "[encoded data removed]",
      "text/plain": [
       "<Figure size 432x288 with 1 Axes>"
      ]
     },
     "metadata": {
      "needs_background": "light"
     },
     "output_type": "display_data"
    }
   ],
   "source": [
    "from sklearn.datasets import load_iris\n",
    "from sklearn.model_selection import train_test_split\n",
    "from sklearn.tree import DecisionTreeClassifier\n",
    "from sklearn.metrics import (confusion_matrix, accuracy_score, recall_score, precision_score, f1_score,\n",
    "                             roc_curve, auc)\n",
    "from sklearn.preprocessing import label_binarize\n",
    "from sklearn.multiclass import OneVsRestClassifier\n",
    "import matplotlib.pyplot as plt\n",
    "import numpy as np\n",
    "\n",
    "# Carregar o dataset Iris\n",
    "iris = load_iris()\n",
    "X = iris.data\n",
    "y = iris.target\n",
    "\n",
    "# Binarizar os rótulos para cálculo da curva ROC\n",
    "y = label_binarize(y, classes=[0, 1, 2])\n",
    "n_classes = y.shape[1]\n",
    "\n",
    "# Dividir o dataset em conjuntos de treino e teste\n",
    "X_train, X_test, y_train, y_test = train_test_split(X, y, test_size=0.3, random_state=42)\n",
    "\n",
    "# Criar e treinar o modelo de árvore de decisão com OneVsRestClassifier\n",
    "clf = OneVsRestClassifier(DecisionTreeClassifier(random_state=42))\n",
    "clf.fit(X_train, y_train)\n",
    "\n",
    "# Fazer previsões com o modelo treinado\n",
    "y_pred = clf.predict(X_test)\n",
    "\n",
    "# Calcular e exibir as métricas solicitadas\n",
    "conf_matrix = confusion_matrix(y_test.argmax(axis=1), y_pred.argmax(axis=1))\n",
    "acc = accuracy_score(y_test, y_pred)\n",
    "recall = recall_score(y_test, y_pred, average='macro')\n",
    "precision = precision_score(y_test, y_pred, average='macro')\n",
    "f1 = f1_score(y_test, y_pred, average='macro')\n",
    "\n",
    "print(\"Matriz de confusão:\\n\", conf_matrix)\n",
    "print(\"Acurácia: {:.2f}\".format(acc))\n",
    "print(\"Recall: {:.2f}\".format(recall))\n",
    "print(\"Precisão: {:.2f}\".format(precision))\n",
    "print(\"F1-score: {:.2f}\".format(f1))\n",
    "\n",
    "# Calcular a curva ROC e AUC para cada classe\n",
    "y_prob = clf.predict_proba(X_test)\n",
    "fpr = dict()\n",
    "tpr = dict()\n",
    "roc_auc = dict()\n",
    "for i in range(n_classes):\n",
    "    fpr[i], tpr[i], _ = roc_curve(y_test[:, i], y_prob[:, i])\n",
    "    roc_auc[i] = auc(fpr[i], tpr[i])\n",
    "\n",
    "# Traçar a curva ROC para cada classe\n",
    "plt.figure()\n",
    "for i in range(n_classes):\n",
    "    plt.plot(fpr[i], tpr[i], label='Curva ROC da classe {} (area = {:.2f})'.format(i, roc_auc[i]))\n",
    "\n",
    "plt.plot([0, 1], [0, 1], 'k--')\n",
    "plt.xlim([0.0, 1.0])\n",
    "plt.ylim([0.0, 1.05])\n",
    "plt.xlabel('Taxa de Falsos Positivos')\n",
    "plt.ylabel('Taxa de Verdadeiros Positivos')\n",
    "plt.title('Curvas ROC para cada classe')\n",
    "plt.legend(loc=\"lower right\")\n",
    "plt.show()\n"
   ]
  },
  {
   "cell_type": "code",
   "execution_count": null,
   "id": "668b214e",
   "metadata": {},
   "outputs": [],
   "source": []
  },
  {
   "attachments": {},
   "cell_type": "markdown",
   "id": "78ce9907",
   "metadata": {},
   "source": [
    "arvore de decisao: Ao analisar o código fornecido, é possível identificar algumas áreas em que se pode aplicar melhorias para torná-lo mais legível, modular e com um melhor desempenho. Primeiramente, seria recomendável dividir o código em funções menores e específicas, o que facilitaria a leitura, manutenção e reutilização do código em projetos futuros. Além disso, é importante que se estratifiquem os dados ao dividi-los em conjuntos de treino e teste, garantindo assim que a distribuição das classes seja proporcional e evitando que o modelo seja enviesado.\n",
    "\n",
    "Outra melhoria a ser considerada é ajustar os parâmetros do modelo de árvore de decisão, utilizando técnicas como Grid Search ou Random Search, para encontrar a combinação ideal de parâmetros e otimizar o desempenho do modelo. Por fim, a aplicação da validação cruzada é altamente recomendada, pois essa técnica oferece uma estimativa mais precisa do desempenho do modelo e ajuda a reduzir a possibilidade de overfitting. Ao aplicar essas melhorias, garantir-se-á uma avaliação mais confiável do desempenho do modelo de classificação e otimizar-se-á a implementação."
   ]
  }
 ],
 "metadata": {
  "kernelspec": {
   "display_name": "Python 3",
   "language": "python",
   "name": "python3"
  },
  "language_info": {
   "codemirror_mode": {
    "name": "ipython",
    "version": 3
   },
   "file_extension": ".py",
   "mimetype": "text/x-python",
   "name": "python",
   "nbconvert_exporter": "python",
   "pygments_lexer": "ipython3",
   "version": "3.8.8"
  }
 },
 "nbformat": 4,
 "nbformat_minor": 5
}
