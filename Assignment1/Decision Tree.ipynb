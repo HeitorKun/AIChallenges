{
 "cells": [
  {
   "cell_type": "code",
   "execution_count": null,
   "metadata": {},
   "outputs": [],
   "source": [
    "import numpy as np\n",
    "import pandas as pd\n",
    "from sklearn.datasets import load_iris\n",
    "from sklearn.model_selection import train_test_split\n",
    "from sklearn.tree import DecisionTreeClassifier\n",
    "from sklearn.metrics import confusion_matrix, accuracy_score, recall_score, precision_score, f1_score, roc_curve, roc_auc_score\n",
    "import matplotlib.pyplot as plt\n",
    "\n",
    "# Carregar os dados\n",
    "iris = load_iris()\n",
    "X = iris.data\n",
    "y = iris.target\n",
    "\n",
    "# Dividir os dados em conjunto de treinamento e teste\n",
    "X_train, X_test, y_train, y_test = train_test_split(X, y, test_size=0.3, random_state=42)\n",
    "\n",
    "# Instanciar o modelo de árvore de decisão e definir a opção \"multi_class\"\n",
    "dt = DecisionTreeClassifier(random_state=42, multi_class='ovr')\n",
    "\n",
    "# Treinar o modelo com os dados de treinamento\n",
    "dt.fit(X_train, y_train)\n",
    "\n",
    "# Fazer previsões usando os dados de teste\n",
    "y_pred = dt.predict(X_test)\n",
    "\n",
    "# Calcular as métricas de avaliação do modelo\n",
    "conf_matrix = confusion_matrix(y_test, y_pred)\n",
    "accuracy = accuracy_score(y_test, y_pred)\n",
    "recall = recall_score(y_test, y_pred, average='macro')\n",
    "precision = precision_score(y_test, y_pred, average='macro')\n",
    "f1 = f1_score(y_test, y_pred, average='macro')\n",
    "fpr, tpr, thresholds = roc_curve(y_test, y_pred, pos_label=2)\n",
    "auc = roc_auc_score(y_test, y_pred)\n",
    "\n",
    "# Imprimir as métricas\n",
    "print(\"Matriz de confusão:\\n\", conf_matrix)\n",
    "print(\"Acurácia: {:.2f}%\".format(accuracy*100))\n",
    "print(\"Recall: {:.2f}%\".format(recall*100))\n",
    "print(\"Precisão: {:.2f}%\".format(precision*100))\n",
    "print(\"F1-Score: {:.2f}%\".format(f1*100))\n",
    "print(\"AUC-ROC: {:.2f}%\".format(auc*100))\n",
    "\n",
    "# Plotar a curva ROC\n",
    "plt.plot(fpr, tpr, linestyle='--', label='Decision Tree')\n",
    "plt.xlabel('False Positive Rate')\n",
    "plt.ylabel('True Positive Rate')\n",
    "plt.legend()\n",
    "plt.show()\n"
   ]
  },
  {
   "cell_type": "code",
   "execution_count": null,
   "id": "668b214e",
   "metadata": {},
   "outputs": [],
   "source": [
    "faça um código em python que utilize scikit learn com dataset iris e que utlize o algoritmo de árvore de decisão e mostre resultados com matriz de confusão, acurácia, recall, precisão, f1-score e ROC"
   ]
  }
 ],
 "metadata": {
  "language_info": {
   "name": "python"
  }
 },
 "nbformat": 4,
 "nbformat_minor": 5
}
