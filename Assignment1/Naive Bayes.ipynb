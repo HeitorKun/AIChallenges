{
 "cells": [
  {
   "cell_type": "markdown",
   "id": "5dac8e99",
   "metadata": {},
   "source": [
    "# Naive Bayes\n",
    "### Prompt: \"faça um código em python que utilize scikit learn com dataset iris e que utlize o algoritmo de naive bayes e mostre resultados com matriz de confusão, acurácia, recall, precisão, f1-score e ROC\"\n",
    "### Resultado:\n"
   ]
  },
  {
   "cell_type": "code",
   "execution_count": 8,
   "id": "09535484",
   "metadata": {},
   "outputs": [
    {
     "name": "stdout",
     "output_type": "stream",
     "text": [
      "Acurácia do classificador Naive Bayes: 100.00%\n"
     ]
    }
   ],
   "source": [
    "from sklearn.datasets import load_iris\n",
    "from sklearn.naive_bayes import GaussianNB\n",
    "from sklearn.model_selection import train_test_split\n",
    "from sklearn.metrics import accuracy_score\n",
    "\n",
    "# Carrega o conjunto de dados Iris\n",
    "iris = load_iris()\n",
    "\n",
    "# Divide o conjunto de dados em conjuntos de treinamento e teste\n",
    "X_train, X_test, y_train, y_test = train_test_split(iris.data, iris.target, test_size=0.3, random_state=0)\n",
    "\n",
    "# Cria uma instância do classificador Naive Bayes\n",
    "gnb = GaussianNB()\n",
    "\n",
    "# Treina o classificador com o conjunto de treinamento\n",
    "gnb.fit(X_train, y_train)\n",
    "\n",
    "# Realiza as previsões no conjunto de teste\n",
    "y_pred = gnb.predict(X_test)\n",
    "\n",
    "# Calcula a acurácia das previsões\n",
    "accuracy = accuracy_score(y_test, y_pred)\n",
    "\n",
    "# Exibe a acurácia das previsões\n",
    "print(\"Acurácia do classificador Naive Bayes: {:.2f}%\".format(accuracy*100))\n"
   ]
  },
  {
   "cell_type": "code",
   "execution_count": null,
   "id": "e77d84da",
   "metadata": {},
   "outputs": [],
   "source": []
  }
 ],
 "metadata": {
  "kernelspec": {
   "display_name": "Python 3",
   "language": "python",
   "name": "python3"
  },
  "language_info": {
   "codemirror_mode": {
    "name": "ipython",
    "version": 3
   },
   "file_extension": ".py",
   "mimetype": "text/x-python",
   "name": "python",
   "nbconvert_exporter": "python",
   "pygments_lexer": "ipython3",
   "version": "3.8.8"
  }
 },
 "nbformat": 4,
 "nbformat_minor": 5
}
