{
 "cells": [
  {
   "cell_type": "markdown",
   "id": "1647929f",
   "metadata": {},
   "source": [
    "# Geração de dataset\n",
    "### Prompt: \"Gera um algoritmo que pega dataset Iris da SciKit-learn\"\n",
    "### Resultado:"
   ]
  },
  {
   "cell_type": "code",
   "execution_count": 1,
   "id": "d7fc35b0",
   "metadata": {},
   "outputs": [
    {
     "name": "stdout",
     "output_type": "stream",
     "text": [
      "['sepal length (cm)', 'sepal width (cm)', 'petal length (cm)', 'petal width (cm)']\n",
      "['setosa' 'versicolor' 'virginica']\n",
      "[[5.1 3.5 1.4 0.2]\n",
      " [4.9 3.  1.4 0.2]\n",
      " [4.7 3.2 1.3 0.2]\n",
      " [4.6 3.1 1.5 0.2]\n",
      " [5.  3.6 1.4 0.2]]\n",
      "[0 0 0 0 0]\n"
     ]
    }
   ],
   "source": [
    "from sklearn.datasets import load_iris\n",
    "\n",
    "# Carregar o conjunto de dados Iris\n",
    "iris = load_iris()\n",
    "\n",
    "# Exibir os nomes das características\n",
    "print(iris.feature_names)\n",
    "\n",
    "# Exibir os nomes das classes\n",
    "print(iris.target_names)\n",
    "\n",
    "# Exibir as primeiras cinco linhas do conjunto de dados\n",
    "print(iris.data[:5])\n",
    "\n",
    "# Exibir as primeiras cinco classes do conjunto de dados\n",
    "print(iris.target[:5])"
   ]
  },
  {
   "cell_type": "code",
   "execution_count": null,
   "id": "c841b297",
   "metadata": {},
   "outputs": [],
   "source": []
  },
  {
   "cell_type": "code",
   "execution_count": null,
   "id": "6eea6c80",
   "metadata": {},
   "outputs": [],
   "source": []
  }
 ],
 "metadata": {
  "kernelspec": {
   "display_name": "Python 3",
   "language": "python",
   "name": "python3"
  },
  "language_info": {
   "codemirror_mode": {
    "name": "ipython",
    "version": 3
   },
   "file_extension": ".py",
   "mimetype": "text/x-python",
   "name": "python",
   "nbconvert_exporter": "python",
   "pygments_lexer": "ipython3",
   "version": "3.8.8"
  }
 },
 "nbformat": 4,
 "nbformat_minor": 5
}
